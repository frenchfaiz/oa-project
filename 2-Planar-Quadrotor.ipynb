{
 "cells": [
  {
   "cell_type": "code",
   "execution_count": 1,
   "id": "f6929dba-17b6-473b-963a-53aba59803ce",
   "metadata": {},
   "outputs": [],
   "source": [
    "import numpy as np\n",
    "import scipy as sp"
   ]
  },
  {
   "cell_type": "code",
   "execution_count": 2,
   "id": "69fdac41-7f60-405b-8fb6-9900be526ce4",
   "metadata": {},
   "outputs": [],
   "source": [
    "from quadrotor.dynamics import QuadrotorDynamicsBase, QuadrotorState\n",
    "from quadrotor.controller import ControllerBase, QuadrotorCommands\n",
    "from quadrotor.trajectory import TrajectoryBase, TrajectoryState"
   ]
  },
  {
   "cell_type": "markdown",
   "id": "c1cde722-2717-4566-a6db-6b0b7748a1df",
   "metadata": {},
   "source": [
    "### Before diving in\n",
    "Before diving in, I recommend going through the text part in the first notebook and the base files in the repository!"
   ]
  },
  {
   "cell_type": "code",
   "execution_count": 3,
   "id": "c797ab0a-3a63-46b7-b275-42882f603da9",
   "metadata": {},
   "outputs": [],
   "source": [
    "from sym import Rot3\n",
    "\n",
    "def dRot3(R: Rot3, omega: np.ndarray) -> Rot3:\n",
    "    \"\"\"\n",
    "    NOTE(roy): If interested, we can discuss the math here later. There are other\n",
    "    ways of doing this but to keep the ode_int formulation, we specifically require\n",
    "    dq/dt. Refer to 'Baseile Graf - Quaternions and Dynamics' or (for intuition)\n",
    "    https://math.stackexchange.com/questions/1896379/how-to-use-the-quaternion-derivative\n",
    "    \"\"\"\n",
    "    quat = np.array(R.to_storage())  # Convert to raw quaternion\n",
    "    (q0, q1, q2, q3) = quat  # xyzw storage, see https://symforce.org/api-gen-cpp/class/classsym_1_1Rot3.html\n",
    "\n",
    "    G = np.array([[ q3,  q2, -q1, -q0],\n",
    "                [-q2,  q3,  q0, -q1],\n",
    "                [ q1, -q0,  q3, -q2]])\n",
    "    quat_dot = (G.T @ omega) / 2\n",
    "    return Rot3.from_storage(quat_dot)"
   ]
  },
  {
   "cell_type": "markdown",
   "id": "5f1db462-33f7-432b-98c4-616fab9a0182",
   "metadata": {},
   "source": [
    "### Building a 2D planar quadrotor model\n",
    "In this second notebook, we'll build a planar quadrotor model as discussed in the slides. Note that most of our base classes (e.g. `QuaternionState`, etc...) are built for a 3D quadrotor. This means that for this lecture, we'll effectively just ignore a dimension. In this case, we'll use `x` and `z` as our horizontal/vertical plane and assume the quadrotor is only able to rotate about the `y` axis that goes into the plane. In the `QuadrotorCommands` this means we'll use only the first 2 rotor rates and pretend the back two don't exist!\n",
    "\n",
    "#### Your work\n",
    "This is the first 'real' notebook and we've gone through material pretty fast. To get started, I've provided some ground-work for certain things. Throughout the code, you'll see `raise NotImplementedError()` exceptions in places where you're expected to write code (so replace them with your actual implementation). Please refer to the first notebook for more info on the program structure and coding guidelines. Given that we're doing a lot of math implementation here, the code is fairly dense, and I want you to err on the side of overclarification.\n",
    "\n",
    "You'll also find some `NOTE(roy)` comments in there sometimes, those are comments that I think are valuable for you to read, or provide extra sources if you're interested."
   ]
  },
  {
   "cell_type": "markdown",
   "id": "6c11a7cd-85c4-4ae8-9206-d6069c200e62",
   "metadata": {},
   "source": [
    "#### Model parameters\n",
    "Let's first define a set of parameters to work with. We'll use a `dataclass` structure ([this](https://realpython.com/python-data-classes/) is a decent intro but the gist of it is that we don't need to define an `__init__` or `__repr__` function and can just add our fields).\n",
    "\n",
    "In this case, I'm using parameters for a [Skydio X2](https://www.skydio.com/skydio-x2) drone. Later during the course we'll play with other parameters to see how things change (e.g. a [Skydio S2](https://www.skydio.com/skydio-2-plus-enterprise) or a [CrazyFly](https://www.bitcraze.io/products/crazyflie-2-1/)). From a control point of view, this drone is a little strange, it's relatively heavy and uses three-blade propellors, which means thrust is higher at lower rotors speeds."
   ]
  },
  {
   "cell_type": "code",
   "execution_count": 4,
   "id": "979e816b-7fd5-4ab0-bbf9-68d63d15c1d0",
   "metadata": {},
   "outputs": [],
   "source": [
    "#(faiza) dataclass data classes have built in __repr__ function and when asked to return its value will return its class with respective params\n",
    "# also makes instantiation easier by solely having to state types, i.e. rank: str\n",
    "# comparison of objects made by data classes is easier. Regularly what is returned after calling an object w/o a __str__ or __repr__ function is\n",
    "# its data's location, but with objects made with a dataclass the class and params of the object can be outright comparable\n",
    "# i.e. Object comparison:   queen_of_hearts == DataClassCard('Q', 'Hearts'), returns TRUE\n",
    "\n",
    "from dataclasses import dataclass\n",
    "\n",
    "#Additional params sent by Roy Vorster (externally - in Slack)\n",
    "from dataclasses import dataclass\n",
    "\n",
    "@dataclass\n",
    "class Params:\n",
    "    \"\"\"A little utility class to hold our quadrotor parameters\"\"\"\n",
    "    mass: float = 1.352  # [kg]\n",
    "    inertia: float = 9.8e-2  # [kg m2]\n",
    "\n",
    "    rotor_diameter: float = 10 * 0.0254  # [m] 10 inches\n",
    "\n",
    "    static_thrust_coefficient: float = 0.14553  # [-] Thrust coefficient, for small rotor rates, not great, returns large rot/s (omega) value for rot speed!\n",
    "    static_torque_coefficient: float = 0.01047  # [-] Torque coefficient\n",
    "\n",
    "    arm_length: float = 0.3814 / 2.0  # [m] Arm length\n",
    "\n",
    "    # Universal constants\n",
    "    g: float = 9.80665  # [m/s2] Gravity\n",
    "    rho: float = 1.225  # [kg/m3] Sea-level density\n",
    "\n",
    "    def rotor_model(self, static_coefficient: float) -> float:\n",
    "        # NOTE(roy) I'm just including this for completeness sake, this means we can e.g. see how air density\n",
    "        # influences our simulation\n",
    "        # Refer to this source for derivation: https://web.mit.edu/16.unified/www/FALL/thermodynamics/notes/node86.html\n",
    "        return self.rho * static_coefficient * (self.rotor_diameter ** 4) / (4 * np.pi ** 2)\n",
    "    \n",
    "    @property # (faiza) Q: Why is this necessary? This func passes in the thrust coeff of the rotor model and returns a special value\n",
    "    def k_thrust(self):\n",
    "        return self.rotor_model(self.static_thrust_coefficient)\n",
    "\n",
    "    @property # (faiza) Q: Why is this necessary? Look above.\n",
    "    def k_torque(self):\n",
    "        return self.rotor_model(self.static_torque_coefficient)\n",
    "\n",
    "# Simply treat as a global\n",
    "p = Params()\n"
   ]
  },
  {
   "cell_type": "markdown",
   "id": "cb122966-4fa9-4b3b-8a96-2e6839c31d50",
   "metadata": {},
   "source": [
    "#### Creating a dynamics model\n",
    "This was also mentioned in the previous notebook, but we'll make use of classes and inheritance here. If this is unclear to you, [this](https://ioflood.com/blog/python-inheritance/) might be a good source.\n",
    "\n",
    "**If there is any use to me going over Python concepts, please let me know. I'm happy to discuss in a 1:1 or if there's enough interest I'll devote part of a session to this!**\n",
    "\n",
    "\n",
    "#### Using scipy's ODE solver\n",
    "As discussed in the project session, we'll use a built-in ODE solver (it's a fun/interesting exercise to do this yourself, i.e. try implementing forward Euler!). We'll use scipy's `solve_ivp` (solve initial value problem) to approach this. I left a comment in the code where you're expected to use this, [refer to the documentation here](https://docs.scipy.org/doc/scipy/reference/generated/scipy.integrate.solve_ivp.html). Note that for each timestep, we're defining a new ODE, so for each timestep, make sure to integrate from 0 to dt."
   ]
  },
  {
   "cell_type": "code",
   "execution_count": 5,
   "id": "5992a5d3-4711-4ef5-a9bc-6fd3cfabed10",
   "metadata": {},
   "outputs": [],
   "source": [
    "class PlanarQuadrotorDynamics(QuadrotorDynamicsBase):\n",
    "    def __init__(self) -> None:\n",
    "        # NOTE(roy): I advise you to scroll through dynamics.py and see what the __init__\n",
    "        # function in the base class does!\n",
    "        super().__init__()\n",
    "\n",
    "        #(faiza) __init__ of the dynamics base-class (assuming for class SimulatorBase) instantiates by dynamics, controller, trajectory params each inheriting from their respective base class\n",
    "        # and sets the timestep (dt) for use in the simulation and for the dynamics class\n",
    "        # and sets up initial state (of position & velocity)\n",
    "\n",
    "    @staticmethod\n",
    "    def rotor_thrust_model(rotor_rates: np.ndarray) -> np.ndarray:\n",
    "        # NOTE(roy): Implement the simple rotor thrust model we discussed in the slides\n",
    "        # To see how complex this can get, see for example: https://arxiv.org/pdf/1601.00733.pdf\n",
    "        '''for i in rotor_rates: #(faiza) probably a nicer numpy way of doing this (for later)\n",
    "            thrustOfThisRotor = thrustCoeff * i * i\n",
    "            listOfThrusts.append(thrustOfThisRotor)'''\n",
    "        rates_squared = np.square(rotor_rates) \n",
    "        rotor_thrust_array = p.k_thrust * rates_squared #F = k_t * omega^2\n",
    "            \n",
    "        return (rotor_thrust_array)\n",
    "        #this simpler model only has 2 working rotors in the x-z plane (and teeters on the y-axis)\n",
    "\n",
    "    def step(self, t: float, input: QuadrotorCommands) -> QuadrotorState:\n",
    "        # NOTE(roy) Use only the first two rotor rates!\n",
    "        F1, F2 = PlanarQuadrotorDynamics.rotor_thrust_model(input.rotor_rates[:2])\n",
    "\n",
    "        # NOTE(roy) Implement the thrust/torque calculation we discussed in the slides\n",
    "        u1 = F1 + F2 #thrust (summedforce, only 2 in planar motion)\n",
    "        u2 = (F1 - F2) * (p.arm_length/2) #torque (--- and arm_length should be a global)\n",
    "       \n",
    "        #no returns\n",
    "\n",
    "        \n",
    "        # NOTE(roy) this local function is a wrapper around the class state_derivative function\n",
    "        # all this does is convert the our state dataclass from/into a vector that the scipy\n",
    "        # integration solver can work with. See dynamics.py for the definition of these\n",
    "        # from/to state vector functions.\n",
    "        def state_derivative(t: float, state: np.ndarray) -> np.ndarray: #dstate is state deriv?\n",
    "            return PlanarQuadrotorDynamics.state_derivative(\n",
    "                QuadrotorState.from_state_vector(state),\n",
    "                u1,\n",
    "                u2,\n",
    "            ).to_state_vector()\n",
    "\n",
    "        state_vector = self.state.to_state_vector() #new state vector ready to use with scipy\n",
    "        # raise NotImplementedError(\"Use the scipy function solve_ivp to integrate to the next timestep\")\n",
    "\n",
    "        #solution = {}  # NOTE(roy) solution = sp.integrate.solve_ivp(.... (0,self.dt)\n",
    "        solution = sp.integrate.solve_ivp(state_derivative, (0, self.dt), state_vector)\n",
    "        \n",
    "        self.state = QuadrotorState.from_state_vector(solution['y'][:, -1]) #(faiza) [ : , -1] means last element in all rows\n",
    "        return self.state \n",
    "\n",
    "    @staticmethod\n",
    "    def state_derivative(state: QuadrotorState, u1: float, u2: float) -> QuadrotorState:\n",
    "        #raise NotImplementedError(\"State derivative not implemented!\")\n",
    "#get q dot and integrate forward\n",
    "        # NOTE(roy) compute the relevant values here! Note that we're using only the x- and z dimensions for translation\n",
    "        # and only the y-axis for rotation for this planar model.\n",
    "        phi = state.orientation.to_yaw_pitch_roll()[1]\n",
    "        accel = np.array([u1 * -1 * np.sin(phi)/p.mass, 0, (-1 * p.g) + (u1 * np.cos(phi)/p.mass)])  #how many elements in this array? 2? has to do with u1?? \n",
    "        angular_accel = np.array([0, u2 / p.inertia, 0]) #\n",
    "\n",
    "        # NOTE(roy) this might look a little confusing at first glance, but we're populating DERIVATIVES\n",
    "        # of the state here! So position -> velocity, velocity -> acceleration, etc...\n",
    "        # If you can think of a more readable way to do this (e.g. defining a QuadrotorStateDerivative class)\n",
    "        # feel free to open a pull-request into the upstream repository!\n",
    "        state_derivative = QuadrotorState(\n",
    "            position=state.velocity,\n",
    "            velocity=accel,\n",
    "            orientation=dRot3(state.orientation, state.angular_velocity),\n",
    "            angular_velocity=angular_accel,\n",
    "        )\n",
    "\n",
    "        return state_derivative"
   ]
  },
  {
   "cell_type": "code",
   "execution_count": 6,
   "id": "dcb9d66a-63af-447b-8992-1d3c7f17bbe1",
   "metadata": {
    "scrolled": true
   },
   "outputs": [
    {
     "name": "stdout",
     "output_type": "stream",
     "text": [
      "[4000, 3000, 2000, 1000]\n"
     ]
    },
    {
     "name": "stdout",
     "output_type": "stream",
     "text": [
      "QuadrotorState(position=array([-1.85383718e-05,  0.00000000e+00,  1.68875348e-02]), orientation=<Rot3 [0.0, 0.0032003367367893, 0.0, 0.9999948789092683]>, velocity=array([-0.00741534,  0.        ,  3.37749746]), angular_velocity=array([0.        , 1.28013688, 0.        ]))\n",
      "QuadrotorState(position=array([-1.85383718e-05,  0.00000000e+00,  1.68875348e-02]), orientation=<Rot3 [0.0, 0.0032003367367893, 0.0, 0.9999948789092683]>, velocity=array([-0.00741534,  0.        ,  3.37749746]), angular_velocity=array([0.        , 1.28013688, 0.        ]))\n"
     ]
    }
   ],
   "source": [
    "#(faiza)scratchwork cell, can IGNORE COMPLETELY\n",
    "roe = PlanarQuadrotorDynamics()\n",
    "roe.rotor_thrust_model([1000,6000,8000,7000])\n",
    "j = QuadrotorCommands([4000,3000,2000,1000])\n",
    "print(j.rotor_rates)\n",
    "print(roe.step(10,j))\n",
    "print(roe.state)\n",
    "\n"
   ]
  },
  {
   "cell_type": "code",
   "execution_count": 7,
   "id": "fdfb7d18-cc55-49ce-874f-852525c8a8a7",
   "metadata": {},
   "outputs": [],
   "source": [
    "class EmptyTrajectory(TrajectoryBase):\n",
    "    def eval(self, *args):\n",
    "        return TrajectoryState(0.0, position=np.zeros(3))  # Trajectory not yet important\n",
    "\n",
    "class EmptyController(ControllerBase):\n",
    "    def step(self, *args) -> QuadrotorCommands:\n",
    "        return QuadrotorCommands(np.zeros(4))  # Just zero rotor rates"
   ]
  },
  {
   "cell_type": "code",
   "execution_count": 8,
   "id": "10652209-5106-4a73-8f1e-463b42754f10",
   "metadata": {},
   "outputs": [],
   "source": [
    "from quadrotor.simulator import SimulatorBase, SimulatorState\n",
    "\n",
    "# This might be slow to run the first time!\n",
    "from quadrotor.renderer import animate_k3d, animate_matplotlib"
   ]
  },
  {
   "cell_type": "code",
   "execution_count": 9,
   "id": "d31b24c5-3603-451d-bf4c-c3565b8573ce",
   "metadata": {},
   "outputs": [],
   "source": [
    "def run_and_render(initial_state: QuadrotorState, t_total: int = 0.5):\n",
    "    sim = SimulatorBase(\n",
    "        dt=0.01,\n",
    "        dynamics=PlanarQuadrotorDynamics(),\n",
    "        controller=EmptyController(),\n",
    "        trajectory=EmptyTrajectory(),\n",
    "        initial_state=initial_state,\n",
    "        t_total=t_total,\n",
    "    )\n",
    "    \n",
    "    # Run the simulator\n",
    "    output = sim.simulate()\n",
    "\n",
    "    # K3D renderer\n",
    "    plot = animate_k3d(output)\n",
    "    \n",
    "    plot.display()\n",
    "    plot.start_auto_play()"
   ]
  },
  {
   "cell_type": "code",
   "execution_count": 10,
   "id": "03051909-87b1-42d1-ba99-27190b8bf041",
   "metadata": {},
   "outputs": [
    {
     "name": "stderr",
     "output_type": "stream",
     "text": [
      "c:\\Users\\Owner\\.virtualenvs\\oa-project-g75_e3vC\\Lib\\site-packages\\traittypes\\traittypes.py:97: UserWarning: Given trait value dtype \"float64\" does not match required type \"float32\". A coerced copy has been created.\n",
      "  warnings.warn(\n"
     ]
    },
    {
     "data": {
      "application/vnd.jupyter.widget-view+json": {
       "model_id": "21baabad1a344ed98448e345cc49e07b",
       "version_major": 2,
       "version_minor": 0
      },
      "text/plain": [
       "Output()"
      ]
     },
     "metadata": {},
     "output_type": "display_data"
    }
   ],
   "source": [
    "# NOTE(roy) play with this variable and see what happens!\n",
    "initial_state = QuadrotorState(\n",
    "    position=np.array([0,0,0]),\n",
    "    velocity=np.array([1,1,1]),\n",
    "    orientation=Rot3.from_yaw_pitch_roll(0, 0, 0),\n",
    "    angular_velocity=np.zeros(3),\n",
    ")\n",
    "\n",
    "run_and_render(initial_state, 1.0)"
   ]
  },
  {
   "cell_type": "markdown",
   "id": "7b1a827d-5904-4dc2-b569-b52c2f1de892",
   "metadata": {},
   "source": [
    "### Does the simulated model make any sense?\n",
    "If all is well, you should see the quadrotor falling down because of gravity, just as we saw in the slides.\n",
    "\n",
    "Now try some experiments for yourself and describe whether the behavior is as expected or whether there is anything wrong with your model, ideas to try:\n",
    "- If you apply an initial upward velocity, what happens?\n",
    "- If you apply an initial _angular_ velocity, what happens?\n",
    "- If you spin up both the rotors, what happens (try around 600 rad/s as a start)?\n",
    "- If you spin one of the rotors faster than the others, what happens?"
   ]
  },
  {
   "cell_type": "markdown",
   "id": "a29d0a11-41ba-4efd-a91f-f1551cdbe8e4",
   "metadata": {},
   "source": [
    "### Commit your updated notebook to your fork!"
   ]
  }
 ],
 "metadata": {
  "kernelspec": {
   "display_name": "Python 3 (ipykernel)",
   "language": "python",
   "name": "python3"
  },
  "language_info": {
   "codemirror_mode": {
    "name": "ipython",
    "version": 3
   },
   "file_extension": ".py",
   "mimetype": "text/x-python",
   "name": "python",
   "nbconvert_exporter": "python",
   "pygments_lexer": "ipython3",
   "version": "3.12.2"
  }
 },
 "nbformat": 4,
 "nbformat_minor": 5
}
