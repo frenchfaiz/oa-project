{
 "cells": [
  {
   "cell_type": "code",
   "execution_count": 1,
   "id": "47c62ee5-09a2-4626-8ef1-6120077e61f1",
   "metadata": {},
   "outputs": [],
   "source": [
    "import numpy as np\n",
    "import scipy as sp\n",
    "\n",
    "from quadrotor.dynamics import QuadrotorDynamicsBase, QuadrotorState\n",
    "from quadrotor.controller import ControllerBase, QuadrotorCommands\n",
    "from quadrotor.trajectory import TrajectoryBase, TrajectoryState"
   ]
  },
  {
   "cell_type": "code",
   "execution_count": 2,
   "id": "56fed8cc-e617-41c6-8eb0-6a13c03ab833",
   "metadata": {},
   "outputs": [],
   "source": [
    "from sym import Rot3\n",
    "\n",
    "def dRot3(R: Rot3, omega: np.ndarray) -> Rot3:\n",
    "    \"\"\"\n",
    "    NOTE(roy): If interested, we can discuss the math here later. There are other\n",
    "    ways of doing this but to keep the ode_int formulation, we specifically require\n",
    "    dq/dt. Refer to 'Baseile Graf - Quaternions and Dynamics' or (for intuition)\n",
    "    https://math.stackexchange.com/questions/1896379/how-to-use-the-quaternion-derivative\n",
    "    \"\"\"\n",
    "    quat = np.array(R.to_storage())  # Convert to raw quaternion\n",
    "    (q0, q1, q2, q3) = quat  # xyzw storage, see https://symforce.org/api-gen-cpp/class/classsym_1_1Rot3.html\n",
    "\n",
    "    G = np.array([[ q3,  q2, -q1, -q0],\n",
    "                [-q2,  q3,  q0, -q1],\n",
    "                [ q1, -q0,  q3, -q2]])\n",
    "    quat_dot = (G.T @ omega) / 2\n",
    "    return Rot3.from_storage(quat_dot)"
   ]
  },
  {
   "cell_type": "code",
   "execution_count": 3,
   "id": "789f07d7-e28a-439f-b71e-94862ce52596",
   "metadata": {},
   "outputs": [],
   "source": [
    "from dataclasses import dataclass, field\n",
    "\n",
    "@dataclass\n",
    "class Params:\n",
    "    \"\"\"A little utility class to hold our quadrotor parameters\"\"\"\n",
    "    mass: float = 1.352  # [kg]\n",
    "\n",
    "    # NOTE(roy) this is a matrix now as discussed!\n",
    "    # NOTE(roy) don't get scared by the field/default_factory thing! It's just a way to do default field initialization for dataclasses,\n",
    "    # see https://docs.python.org/3/library/dataclasses.html. Don't worry about it!\n",
    "    inertia: np.ndarray = field(default_factory=lambda: np.array([\n",
    "        [9.8e-3, 0, 0],\n",
    "        [0, 10.02e-3, 0],\n",
    "        [0, 0, 18.6e-3],\n",
    "    ]))\n",
    "\n",
    "    rotor_diameter: float = 10 * 0.0254  # [m] 10 inches\n",
    "\n",
    "    static_thrust_coefficient: float = 0.14553  # [-] Thrust coefficient\n",
    "    static_torque_coefficient: float = 0.01047  # [-] Torque coefficient\n",
    "\n",
    "    # NOTE(roy) assume this is the same front-to-back and left-to-right\n",
    "    arm_length: float = 0.3814 / 2.0  # [m] Arm length\n",
    "\n",
    "    # Universal constants\n",
    "    g: float = 9.80665  # [m/s2] Gravity\n",
    "    rho: float = 1.225  # [kg/m3] Sea-level density\n",
    "\n",
    "    def rotor_model(self, static_coefficient: float) -> float:\n",
    "        # NOTE(roy) I'm just including this for completeness sake, this means we can e.g. see how air density\n",
    "        # influences our simulation\n",
    "        # Refer to this source for derivation: https://web.mit.edu/16.unified/www/FALL/thermodynamics/notes/node86.html\n",
    "        return self.rho * static_coefficient * (self.rotor_diameter ** 4) / (4 * np.pi ** 2)\n",
    "\n",
    "    # NOTE(roy) if you're unsure what @property decorators do: they make it so that we can call k_thrust as if it was just a class\n",
    "    # variable. I.e. we'd write params.k_thrust now, rather than params.k_thrust()\n",
    "    @property\n",
    "    def k_thrust(self):\n",
    "        return self.rotor_model(self.static_thrust_coefficient)\n",
    "\n",
    "    @property\n",
    "    def k_torque(self):\n",
    "        return self.rotor_model(self.static_torque_coefficient)\n",
    "\n",
    "# Simply treat as a global\n",
    "p = Params()"
   ]
  },
  {
   "cell_type": "markdown",
   "id": "4bcc7644-032e-4c48-bd4b-83791954e4c6",
   "metadata": {},
   "source": [
    "### Writing a controller for our drone\n",
    "In this notebook, we'll start writing a feedback controller for our model! Again, I will be leaving you guys alone a little bit more.\n",
    "\n",
    "#### Recommended steps\n",
    "- Copy your 3D quadrotor model from the previous lecture\n",
    "- Work your way down in the `Controller` class\n",
    "    - I implemented a basic structure, but feel free to diverge from this if you like!\n",
    "    - Write the inverse mixing matrix formulation to from **u** to rotor rates\n",
    "    - As discussed, the first week I expect you to just set up control in *z* to warm up!"
   ]
  },
  {
   "cell_type": "markdown",
   "id": "937c0d60-2ee6-4e32-9db9-36121e53cf1a",
   "metadata": {},
   "source": [
    "### The dynamics"
   ]
  },
  {
   "cell_type": "code",
   "execution_count": 4,
   "id": "0b26efd2-d381-4491-9751-38b510e08139",
   "metadata": {},
   "outputs": [],
   "source": [
    "# Copy your 3D Quadrotor here!\n",
    "class FullQuadrotorDynamics(QuadrotorDynamicsBase):\n",
    "    def __init__(self) -> None:\n",
    "        # NOTE(roy): I advise you to scroll through dynamics.py and see what the __init__\n",
    "        # function in the base class does!\n",
    "        super().__init__()\n",
    "\n",
    "        #(faiza) __init__ of the dynamics base-class (assuming for class SimulatorBase) instantiates by dynamics, controller, trajectory params each inheriting from their respective base class\n",
    "        # and sets the timestep (dt) for use in the simulation and for the dynamics class\n",
    "        # and sets up initial state (of position & velocity)\n",
    "\n",
    "    '''\n",
    "    - Implement the mixing matrix (i.e. compute u1 and u2 from the rotor rates)\n",
    "    - Modify the state_derivative functions to take a vector for u2 rather than a float (because now of course that's 3 numbers!)\n",
    "    - Modify the accel formulation in your model to 3D (see equations in slides)\n",
    "    - Modify the angular_accel formulation in your model to 3D (see equations in slides)\n",
    "    '''\n",
    "    \n",
    "    @staticmethod\n",
    "    def rotor_thrust_model(rotor_rates: np.ndarray) -> np.ndarray:\n",
    "        # NOTE(roy): To see how complex this can get visit https://arxiv.org/pdf/1601.00733.pdf\n",
    "        rates_squared = np.square(rotor_rates) \n",
    "        rotor_thrust_array = p.k_thrust * rates_squared #F = k_t * omega^2\n",
    "            \n",
    "        return (rotor_thrust_array)\n",
    "        #this model has 4 rotors -- and can teeter on all 3 axis\n",
    "    #def rotor_torque_model(rotor_rate: np.ndarray) -> np.ndarrary:\n",
    "\n",
    "    def step(self, t: float, input: QuadrotorCommands) -> QuadrotorState:\n",
    "        # Get all 4 rotor rates\n",
    "        F1, F2, F3, F4 = FullQuadrotorDynamics.rotor_thrust_model(input.rotor_rates)\n",
    "        forces = np.array([[F1], [F2], [F3], [F4]]) #really just u1 components\n",
    "\n",
    "        # NOTE(roy) Implement the thrust/torque calculation we discussed in the slides\n",
    "        #u1 = F1 + F2 + F3 + F4 #thrust (summed forces)\n",
    "        # OLD u2 = (F1 - F2) * (p.arm_length/2) #torque (--- and arm_length should be a global)\n",
    "\n",
    "        #u2 would be an array of the moments of inertia of each of axes\n",
    "        #mixing matrix contains info of u1 & u2, u2 has moments about each axis\n",
    "        L = p.arm_length\n",
    "        k = p.k_thrust/p.k_torque\n",
    "        mixing_matrix = np.array([\n",
    "                                  [1, 1, 1, 1],\n",
    "                                  [0, L, 0, -1 * L],\n",
    "                                  [-1 * L, 0 , L, 0],\n",
    "                                  [k, -1 * k, k, -1 * k]\n",
    "                                  ])\n",
    "\n",
    "        u = mixing_matrix @ forces\n",
    "        #print (u)\n",
    "\n",
    "        u1 = u[0][0]\n",
    "        u2 = u[1:4]\n",
    "        #print (u1, u2)\n",
    "\n",
    "        \n",
    "        # NOTE(roy) this local function is a wrapper around the class state_derivative function\n",
    "        # all this does is convert the our state dataclass from/into a vector that the scipy\n",
    "        # integration solver can work with. See dynamics.py for the definition of these\n",
    "        # from/to state vector functions.\n",
    "        def state_derivative(t: float, state: np.ndarray) -> np.ndarray: #dstate is state deriv?\n",
    "            return FullQuadrotorDynamics.state_derivative(\n",
    "                QuadrotorState.from_state_vector(state),\n",
    "                u1,\n",
    "                u2,\n",
    "            ).to_state_vector()\n",
    "\n",
    "        state_vector = self.state.to_state_vector() #new state vector ready to use with scipy\n",
    "        # raise NotImplementedError(\"Use the scipy function solve_ivp to integrate to the next timestep\")\n",
    "\n",
    "        #solution = {}  # NOTE(roy) solution = sp.integrate.solve_ivp(.... (0,self.dt)\n",
    "        solution = sp.integrate.solve_ivp(state_derivative, (0, self.dt), state_vector)\n",
    "        \n",
    "        self.state = QuadrotorState.from_state_vector(solution['y'][:, -1]) #(faiza) [ : , -1] means last element in all rows\n",
    "        return self.state \n",
    "\n",
    "    @staticmethod\n",
    "    def state_derivative(state: QuadrotorState, u1: np.array, u2: np.array) -> QuadrotorState:\n",
    "#get q dot and integrate forward\n",
    "        RAB = state.orientation\n",
    "        \n",
    "        accel = (np.array([0, 0, p.mass * p.g *-1]) + (RAB * np.array([0, 0, u1])))/p.mass\n",
    "        #print(accel.shape)\n",
    "\n",
    "        #solving newton-euler for angular accel\n",
    "        #M is array of momentums by each axis of rotation, torques\n",
    "        M = np.transpose(u2)[0]\n",
    "        #print(\"M\", M)\n",
    "        #print (\"cross\" , np.cross(state.angular_velocity, p.inertia))\n",
    "        angular_accel = np.linalg.inv(p.inertia) @ (M - np.cross(state.angular_velocity, p.inertia @ state.angular_velocity)) #array of momentums 'M' are of u2 remember?\n",
    "\n",
    "        #print(angular_accel.shape)\n",
    "    \n",
    "#omega ang vel\n",
    "        # NOTE(roy) this might look a little confusing at first glance, but we're populating DERIVATIVES\n",
    "        # of the state here! So position -> velocity, velocity -> acceleration, etc...\n",
    "        # If you can think of a more readable way to do this (e.g. defining a QuadrotorStateDerivative class)\n",
    "        # feel free to open a pull-request into the upstream repository!\n",
    "        state_derivative = QuadrotorState(\n",
    "            position=state.velocity,\n",
    "            velocity=accel,\n",
    "            orientation=dRot3(state.orientation, state.angular_velocity),\n",
    "            angular_velocity=angular_accel,\n",
    "        )\n",
    "        \n",
    "        return state_derivative"
   ]
  },
  {
   "cell_type": "markdown",
   "id": "3566ef9f-ba46-4888-bccd-e2310f724cea",
   "metadata": {},
   "source": [
    "### The controller"
   ]
  },
  {
   "cell_type": "code",
   "execution_count": 5,
   "id": "d97b6cd4-7870-4f30-af64-184148bd4265",
   "metadata": {},
   "outputs": [],
   "source": [
    "@dataclass\n",
    "class ControllerParams:\n",
    "    \"\"\"The same as above but for the controller gains\"\"\"\n",
    "\n",
    "    # NOTE(roy) diag just means we get a matrix with these values on the diagonal,\n",
    "    # so these are 3x3 matrices (print them if you're unsure!)\n",
    "    # We use this formulation because it makes the math a bit more readable later on!\n",
    "    K_p: np.ndarray = field(default_factory=lambda: np.diag([0, 0, 100]))\n",
    "    K_d: np.ndarray = field(default_factory=lambda: np.diag([0, 0, 20]))\n",
    "\n",
    "    # Min/max rotor rates!\n",
    "    rotor_rate_min: float = 180\n",
    "    rotor_rate_max: float = 600\n",
    "\n",
    "controller_p = ControllerParams()"
   ]
  },
  {
   "cell_type": "code",
   "execution_count": 6,
   "id": "237e1331-e9ac-46f8-96b3-a4a24c2b031e",
   "metadata": {},
   "outputs": [],
   "source": [
    "class Controller(ControllerBase):\n",
    "    @staticmethod\n",
    "    def rotor_rates_from_u(u: np.ndarray) -> np.ndarray:\n",
    "        # NOTE(roy) implement your conversion from u (so that's [u1, u2_1, u2_2, u2_3] like we discussed, a 4-sized vector)\n",
    "        # to rotor rates (which is also a four-sized vector)\n",
    "\n",
    "        # NOTE(roy) the steps here are:\n",
    "        #  1. convert u -> forces with the inverse mixing matrix\n",
    "        #  2. convert forces -> rotor rates by inverting the rotor rate model\n",
    "        #  3. limit the rotor rates with rotor_rate_min/rotor_rate_max above!\n",
    "        #raise NotImplementedError(\"rotor_rates_from_u not implemented!\")\n",
    "\n",
    "        L = p.arm_length\n",
    "        k = p.k_thrust/p.k_torque\n",
    "        mixing_matrix = np.array([\n",
    "                                  [1, 1, 1, 1],\n",
    "                                  [0, L, 0, -1 * L],\n",
    "                                  [-1 * L, 0 , L, 0],\n",
    "                                  [k, -1 * k, k, -1 * k]\n",
    "                                  ])\n",
    "        #u is given as an arg to this func\n",
    "        # 1: u to forces conversion\n",
    "        force_array = np.linalg.inv(mixing_matrix) @ u\n",
    "\n",
    "        #all undefined 'nans' should become zeros below\n",
    "        for f in range(4):\n",
    "            if force_array[f] < 0:\n",
    "                force_array[f] = 0\n",
    "        \n",
    "        # 2: force array to the non-physical rotor rate array\n",
    "        math_omegas = np.sqrt(force_array/p.k_thrust)\n",
    "\n",
    "        #3: limit rotor rate elements to what is physically possible\n",
    "        #print(math_omegas[1]) #returns nan (not a number) for index zero, may be undefined for negative nums\n",
    "              \n",
    "        for w in range(4):\n",
    "            if math_omegas[w] < controller_p.rotor_rate_min:\n",
    "                math_omegas[w] = controller_p.rotor_rate_min\n",
    "            if math_omegas[w] > controller_p.rotor_rate_max:\n",
    "                math_omegas[w] = controller_p.rotor_rate_max\n",
    "                \n",
    "        rotor_rates = math_omegas\n",
    "        return (rotor_rates)\n",
    "        #print(rotor_rates) \n",
    "        \n",
    "    def step(self, t: float, trajectory: TrajectoryState, state: QuadrotorState) -> QuadrotorCommands:\n",
    "        desired_position, desired_velocity = trajectory.position, trajectory.velocity\n",
    "        actual_position, actual_velocity = state.position, state.velocity\n",
    "        \n",
    "        # NOTE(roy) first compute the desired acceleration using the equation from the lectures!\n",
    "        # I already extracted the values you need to compute it above\n",
    "        commanded_acceleration = controller_p.K_d @ (desired_velocity - actual_velocity) + controller_p.K_p @ (desired_position - actual_position)\n",
    "\n",
    "        # NOTE(roy) now compute u_1 from the commanded acceleration using the linearized equation from the lectures!\n",
    "        #u_1 = 0 ---- a single num\n",
    "        u_1 = p.mass * (p.g + commanded_acceleration[2])\n",
    "        #print(u_1)\n",
    "\n",
    "        # NOTE(roy) we're just doing thrust this week, set u_2 to just be zeros!\n",
    "        u_2 = np.zeros(3)\n",
    "        u = np.array([u_1, *u_2])\n",
    "\n",
    "        rotor_rates = Controller.rotor_rates_from_u(u)\n",
    "        return QuadrotorCommands(rotor_rates)"
   ]
  },
  {
   "cell_type": "code",
   "execution_count": 7,
   "id": "52694e75-1c68-45e4-b4b2-a269d1f499d4",
   "metadata": {},
   "outputs": [
    {
     "data": {
      "text/plain": [
       "'c = Controller()\\nc.rotor_rates_from_u(np.array([5,5,5,5]))\\nb = TrajectoryState(10, np.array([0,0,0]))\\nq = QuadrotorCommands([4000,3000,2000,1000])\\nc.step(10,b,q)'"
      ]
     },
     "execution_count": 7,
     "metadata": {},
     "output_type": "execute_result"
    }
   ],
   "source": [
    "#ignore - scrap\n",
    "'''c = Controller()\n",
    "c.rotor_rates_from_u(np.array([5,5,5,5]))\n",
    "b = TrajectoryState(10, np.array([0,0,0]))\n",
    "q = QuadrotorCommands([4000,3000,2000,1000])\n",
    "c.step(10,b,q)'''\n"
   ]
  },
  {
   "cell_type": "markdown",
   "id": "b21933dc-327e-475f-9547-ea88ddefef3d",
   "metadata": {},
   "source": [
    "### The trajectory\n",
    "Because we're now finally doing closed-loop control, we also need to set desired states in the trajectory!\n",
    "I've set up something simple, please mess around with it!"
   ]
  },
  {
   "cell_type": "code",
   "execution_count": 8,
   "id": "db8f15e4-ff49-420b-8c8b-c23693b1f49a",
   "metadata": {},
   "outputs": [],
   "source": [
    "class JumpTrajectory(TrajectoryBase):\n",
    "    def eval(self, t: float):\n",
    "        altitude = 0 if t < 1.0 else 1.0\n",
    "        position = np.array([0, 0, altitude])\n",
    "\n",
    "        return TrajectoryState(t, position=position)"
   ]
  },
  {
   "cell_type": "markdown",
   "id": "1a3db211-6d28-4e56-aa1b-b5847bbd9157",
   "metadata": {},
   "source": [
    "### Running it!"
   ]
  },
  {
   "cell_type": "code",
   "execution_count": 9,
   "id": "e8238d97-8dbc-4c5a-99c2-afbf92d7ed6d",
   "metadata": {},
   "outputs": [],
   "source": [
    "from quadrotor.simulator import SimulatorBase, SimulatorState\n",
    "\n",
    "# This might be slow to run the first time!\n",
    "from quadrotor.renderer import animate_k3d, animate_matplotlib"
   ]
  },
  {
   "cell_type": "code",
   "execution_count": 10,
   "id": "a57398f9-538d-43e0-8345-906ac3734e7b",
   "metadata": {},
   "outputs": [],
   "source": [
    "def run_and_render(initial_state: QuadrotorState, t_total: int = 2.0):\n",
    "    sim = SimulatorBase(\n",
    "        dt=0.01,\n",
    "        dynamics=FullQuadrotorDynamics(),\n",
    "        controller=Controller(),\n",
    "        trajectory=JumpTrajectory(),\n",
    "        initial_state=initial_state,\n",
    "        t_total=t_total,\n",
    "    )\n",
    "    \n",
    "    # Run the simulator\n",
    "    output = sim.simulate()\n",
    "\n",
    "    # K3D renderer\n",
    "    plot = animate_k3d(output)\n",
    "    \n",
    "    plot.display()\n",
    "    plot.start_auto_play()"
   ]
  },
  {
   "cell_type": "code",
   "execution_count": 11,
   "id": "b7a1d6b7-b4dc-49c5-8fd0-df855a37cade",
   "metadata": {},
   "outputs": [
    {
     "name": "stderr",
     "output_type": "stream",
     "text": [
      "C:\\Users\\Owner\\.virtualenvs\\oa-project-g75_e3vC\\Lib\\site-packages\\traittypes\\traittypes.py:97: UserWarning: Given trait value dtype \"float64\" does not match required type \"float32\". A coerced copy has been created.\n",
      "  warnings.warn(\n"
     ]
    },
    {
     "data": {
      "application/vnd.jupyter.widget-view+json": {
       "model_id": "c4bbdfc0968d4d829ff14be9aaf70ab9",
       "version_major": 2,
       "version_minor": 0
      },
      "text/plain": [
       "Output()"
      ]
     },
     "metadata": {},
     "output_type": "display_data"
    }
   ],
   "source": [
    "# NOTE(roy) play with this variable and see what happens!\n",
    "initial_state = QuadrotorState(\n",
    "    position=np.zeros(3),\n",
    "    velocity=np.array([0, 0, 0]),\n",
    "    orientation=Rot3.from_yaw_pitch_roll(0, 0, 0),\n",
    "    angular_velocity=np.zeros(3),\n",
    ")\n",
    "\n",
    "run_and_render(initial_state, 5.0)"
   ]
  },
  {
   "cell_type": "markdown",
   "id": "8c3a2631-3a31-4b58-ac0b-d3b7ffdcf5b9",
   "metadata": {},
   "source": [
    "### Looking at the controller behavior\n",
    "If all is well, the quadrotor should have a stable hover and after 1 second jump up 1 meter (with the `JumpTrajectory`)\n",
    "\n",
    "Try some experiments:\n",
    "- What happens if you increase/descrease `K_p`?\n",
    "- What happens if you increase/decrease `K_d`?\n",
    "- What happens if you use a slightly different mass in the controller (so the controller and dynamics have a different estimate for the quadrotor mass)? How do you think you could solve the behavior you see?"
   ]
  },
  {
   "cell_type": "markdown",
   "id": "10af4693-4881-49d9-b457-5037273b3e8e",
   "metadata": {},
   "source": [
    "### Commit your updated notebook to your fork!"
   ]
  },
  {
   "cell_type": "code",
   "execution_count": null,
   "id": "af32ce69-6f1b-4ae6-9c57-aad08b3877fe",
   "metadata": {},
   "outputs": [],
   "source": []
  }
 ],
 "metadata": {
  "kernelspec": {
   "display_name": "Python 3 (ipykernel)",
   "language": "python",
   "name": "python3"
  },
  "language_info": {
   "codemirror_mode": {
    "name": "ipython",
    "version": 3
   },
   "file_extension": ".py",
   "mimetype": "text/x-python",
   "name": "python",
   "nbconvert_exporter": "python",
   "pygments_lexer": "ipython3",
   "version": "3.12.2"
  }
 },
 "nbformat": 4,
 "nbformat_minor": 5
}
