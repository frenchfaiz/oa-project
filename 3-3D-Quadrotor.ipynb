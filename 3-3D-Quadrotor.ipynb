{
 "cells": [
  {
   "cell_type": "code",
   "execution_count": 11,
   "id": "abdd7603-fdfc-4bbb-9fb9-fdace98b6ba7",
   "metadata": {},
   "outputs": [],
   "source": [
    "import numpy as np\n",
    "import scipy as sp"
   ]
  },
  {
   "cell_type": "code",
   "execution_count": 12,
   "id": "efd65fdf-e50c-40e2-ae0e-eef3ebbb38ec",
   "metadata": {},
   "outputs": [],
   "source": [
    "from quadrotor.dynamics import QuadrotorDynamicsBase, QuadrotorState\n",
    "from quadrotor.controller import ControllerBase, QuadrotorCommands\n",
    "from quadrotor.trajectory import TrajectoryBase, TrajectoryState"
   ]
  },
  {
   "cell_type": "code",
   "execution_count": 13,
   "id": "9c3c2c23-ffdf-42b3-863b-f389d0e16c91",
   "metadata": {},
   "outputs": [],
   "source": [
    "from sym import Rot3\n",
    "\n",
    "def dRot3(R: Rot3, omega: np.ndarray) -> Rot3:\n",
    "    \"\"\"\n",
    "    NOTE(roy): If interested, we can discuss the math here later. There are other\n",
    "    ways of doing this but to keep the ode_int formulation, we specifically require\n",
    "    dq/dt. Refer to 'Baseile Graf - Quaternions and Dynamics' or (for intuition)\n",
    "    https://math.stackexchange.com/questions/1896379/how-to-use-the-quaternion-derivative\n",
    "    \"\"\"\n",
    "    quat = np.array(R.to_storage())  # Convert to raw quaternion\n",
    "    (q0, q1, q2, q3) = quat  # xyzw storage, see https://symforce.org/api-gen-cpp/class/classsym_1_1Rot3.html\n",
    "\n",
    "    G = np.array([[ q3,  q2, -q1, -q0],\n",
    "                [-q2,  q3,  q0, -q1],\n",
    "                [ q1, -q0,  q3, -q2]])\n",
    "    quat_dot = (G.T @ omega) / 2\n",
    "    return Rot3.from_storage(quat_dot)"
   ]
  },
  {
   "cell_type": "markdown",
   "id": "a844a288-3d14-4248-8e06-2fcb7e26d3a1",
   "metadata": {},
   "source": [
    "### Building a 3D quadrotor model\n",
    "In this second notebook, we'll build a full 3-dimensional quadrotor model! In this one I will be leaving you guys alone a lot more, but as discussed in the lectures, there is a lot of overlap with the 2D model we made last week, so feel free to copy your implementation from there and simply expand it here!\n",
    "\n",
    "**When implementing things like this, I recommend working in steps!** For example, in your 2D model, you may find it's much better to _first_ model the accelerations; see whether that works and only _then_ move on to the angular acceleration. If you do both at the same time, finding bugs (and everyone introduces bugs once in a while!) is much harder. **Keep testing as you write code!**\n",
    "\n",
    "#### Recommended steps\n",
    "- Copy your 2D quadrotor model\n",
    "- Work your way down the same way we did on the 2D model\n",
    "    - Implement the mixing matrix (i.e. compute u1 and u2 from the rotor rates)\n",
    "    - Modify the `state_derivative` functions to take a vector for u2 rather than a float (because now of course that's 3 numbers!)\n",
    "    - Modify the `accel` formulation in your model to 3D (see equations in slides)\n",
    "    - Modify the `angular_accel` formulation in your model to 3D (see equations in slides)"
   ]
  },
  {
   "cell_type": "code",
   "execution_count": 14,
   "id": "0385ef41-575c-449f-a3ff-cfa254d836e6",
   "metadata": {},
   "outputs": [],
   "source": [
    "from dataclasses import dataclass, field\n",
    "\n",
    "@dataclass\n",
    "class Params:\n",
    "    \"\"\"A little utility class to hold our quadrotor parameters\"\"\"\n",
    "    mass: float = 1.352  # [kg]\n",
    "\n",
    "    # NOTE(roy) this is a matrix now as discussed!\n",
    "    # NOTE(roy) don't get scared by the field/default_factory thing! It's just a way to do default field initialization for dataclasses,\n",
    "    # see https://docs.python.org/3/library/dataclasses.html. Don't worry about it!\n",
    "    inertia: np.ndarray = field(default_factory=lambda: np.array([\n",
    "        [9.8e-3, 0, 0],\n",
    "        [0, 10.02e-3, 0],\n",
    "        [0, 0, 18.6e-3],\n",
    "    ]))\n",
    "\n",
    "    rotor_diameter: float = 10 * 0.0254  # [m] 10 inches\n",
    "\n",
    "    static_thrust_coefficient: float = 0.14553  # [-] Thrust coefficient\n",
    "    static_torque_coefficient: float = 0.01047  # [-] Torque coefficient\n",
    "\n",
    "    # NOTE(roy) assume this is the same front-to-back and left-to-right\n",
    "    arm_length: float = 0.3814 / 2.0  # [m] Arm length\n",
    "\n",
    "    # Universal constants\n",
    "    g: float = 9.80665  # [m/s2] Gravity\n",
    "    rho: float = 1.225  # [kg/m3] Sea-level density\n",
    "\n",
    "    def rotor_model(self, static_coefficient: float) -> float:\n",
    "        # NOTE(roy) I'm just including this for completeness sake, this means we can e.g. see how air density\n",
    "        # influences our simulation\n",
    "        # Refer to this source for derivation: https://web.mit.edu/16.unified/www/FALL/thermodynamics/notes/node86.html\n",
    "        return self.rho * static_coefficient * (self.rotor_diameter ** 4) / (4 * np.pi ** 2)\n",
    "\n",
    "    # NOTE(roy) if you're unsure what @property decorators do: they make it so that we can call k_thrust as if it was just a class\n",
    "    # variable. I.e. we'd write params.k_thrust now, rather than params.k_thrust()\n",
    "    @property\n",
    "    def k_thrust(self):\n",
    "        return self.rotor_model(self.static_thrust_coefficient)\n",
    "\n",
    "    @property\n",
    "    def k_torque(self):\n",
    "        return self.rotor_model(self.static_torque_coefficient)\n",
    "\n",
    "# Simply treat as a global\n",
    "p = Params()"
   ]
  },
  {
   "cell_type": "code",
   "execution_count": 28,
   "id": "9613eae0-23b8-449c-8820-546dc443e480",
   "metadata": {},
   "outputs": [],
   "source": [
    "# NOTE(roy) feel free to copy large parts from your previous assignment!\n",
    "class FullQuadrotorDynamics(QuadrotorDynamicsBase):\n",
    "    def __init__(self) -> None:\n",
    "        # NOTE(roy): I advise you to scroll through dynamics.py and see what the __init__\n",
    "        # function in the base class does!\n",
    "        super().__init__()\n",
    "\n",
    "        #(faiza) __init__ of the dynamics base-class (assuming for class SimulatorBase) instantiates by dynamics, controller, trajectory params each inheriting from their respective base class\n",
    "        # and sets the timestep (dt) for use in the simulation and for the dynamics class\n",
    "        # and sets up initial state (of position & velocity)\n",
    "\n",
    "    '''\n",
    "    - Implement the mixing matrix (i.e. compute u1 and u2 from the rotor rates)\n",
    "    - Modify the state_derivative functions to take a vector for u2 rather than a float (because now of course that's 3 numbers!)\n",
    "    - Modify the accel formulation in your model to 3D (see equations in slides)\n",
    "    - Modify the angular_accel formulation in your model to 3D (see equations in slides)\n",
    "    '''\n",
    "    \n",
    "    @staticmethod\n",
    "    def rotor_thrust_model(rotor_rates: np.ndarray) -> np.ndarray:\n",
    "        # NOTE(roy): To see how complex this can get visit https://arxiv.org/pdf/1601.00733.pdf\n",
    "        rates_squared = np.square(rotor_rates) \n",
    "        rotor_thrust_array = p.k_thrust * rates_squared #F = k_t * omega^2\n",
    "            \n",
    "        return (rotor_thrust_array)\n",
    "        #this model has 4 rotors -- and can teeter on all 3 axis\n",
    "    #def rotor_torque_model(rotor_rate: np.ndarray) -> np.ndarrary:\n",
    "\n",
    "    def step(self, t: float, input: QuadrotorCommands) -> QuadrotorState:\n",
    "        # Get all 4 rotor rates\n",
    "        F1, F2, F3, F4 = FullQuadrotorDynamics.rotor_thrust_model(input.rotor_rates)\n",
    "        forces = np.array([F1, F2, F3, F4])\n",
    "\n",
    "        # NOTE(roy) Implement the thrust/torque calculation we discussed in the slides\n",
    "        #u1 = F1 + F2 + F3 + F4 #thrust (summed forces)\n",
    "        # OLD u2 = (F1 - F2) * (p.arm_length/2) #torque (--- and arm_length should be a global)\n",
    "\n",
    "        #u2 would be an array of the moments of inertia of each of axes\n",
    "        #mixing matrix contains info of u1 & u2, u2 has moments about each axis\n",
    "        L = p.arm_length\n",
    "        k = p.k_thrust/p.k_torque\n",
    "        mixing_matrix = np.matrix([1, 1, 1, 1], [0, L, 0, -1 * L], [-L, 0 , L, 0], [k, -1 * k, k, -1 * k])\n",
    "\n",
    "        u = mixing_matrix @ forces\n",
    "    \n",
    "        # NOTE(roy) this local function is a wrapper around the class state_derivative function\n",
    "        # all this does is convert the our state dataclass from/into a vector that the scipy\n",
    "        # integration solver can work with. See dynamics.py for the definition of these\n",
    "        # from/to state vector functions.\n",
    "        def state_derivative(t: float, state: np.ndarray) -> np.ndarray: #dstate is state deriv?\n",
    "            return PlanarQuadrotorDynamics.state_derivative(\n",
    "                QuadrotorState.from_state_vector(state),\n",
    "                u1,\n",
    "                u2,\n",
    "            ).to_state_vector()\n",
    "\n",
    "        state_vector = self.state.to_state_vector() #new state vector ready to use with scipy\n",
    "        # raise NotImplementedError(\"Use the scipy function solve_ivp to integrate to the next timestep\")\n",
    "\n",
    "        #solution = {}  # NOTE(roy) solution = sp.integrate.solve_ivp(.... (0,self.dt)\n",
    "        solution = sp.integrate.solve_ivp(state_derivative, (0, self.dt), state_vector)\n",
    "        \n",
    "        self.state = QuadrotorState.from_state_vector(solution['y'][:, -1]) #(faiza) [ : , -1] means last element in all rows\n",
    "        return self.state \n",
    "\n",
    "    @staticmethod\n",
    "    def state_derivative(state: QuadrotorState, u1: float, u2: float) -> QuadrotorState:\n",
    "        #raise NotImplementedError(\"State derivative not implemented!\")\n",
    "#get q dot and integrate forward\n",
    "        # NOTE(roy) compute the relevant values here! Note that we're using only the x- and z dimensions for translation\n",
    "        # and only the y-axis for rotation for this planar model.\n",
    "        phi = state.orientation.to_yaw_pitch_roll()[1]\n",
    "        accel = np.array([u1 * -1 * np.sin(phi)/p.mass, 0, (-1 * p.g) + (u1 * np.cos(phi)/p.mass)])  #how many elements in this array? 2? has to do with u1?? \n",
    "        angular_accel = np.array([0, u2 / p.inertia, 0]) #\n",
    "\n",
    "        # NOTE(roy) this might look a little confusing at first glance, but we're populating DERIVATIVES\n",
    "        # of the state here! So position -> velocity, velocity -> acceleration, etc...\n",
    "        # If you can think of a more readable way to do this (e.g. defining a QuadrotorStateDerivative class)\n",
    "        # feel free to open a pull-request into the upstream repository!\n",
    "        state_derivative = QuadrotorState(\n",
    "            position=state.velocity,\n",
    "            velocity=accel,\n",
    "            orientation=dRot3(state.orientation, state.angular_velocity),\n",
    "            angular_velocity=angular_accel,\n",
    "        )\n",
    "\n",
    "        return state_derivative"
   ]
  },
  {
   "cell_type": "code",
   "execution_count": 29,
   "id": "8334e425-04c2-4b7d-bc1d-3e494b2ebf52",
   "metadata": {},
   "outputs": [
    {
     "data": {
      "text/plain": [
       "'roe = FullQuadrotorDynamics()\\nroe.rotor_thrust_model([1000,6000,8000,7000])\\nj = QuadrotorCommands([4000,3000,2000,1000])\\nprint(j.rotor_rates)\\nprint(roe.step(10,j))\\n#print(roe.state)'"
      ]
     },
     "execution_count": 29,
     "metadata": {},
     "output_type": "execute_result"
    }
   ],
   "source": [
    "#(faiza)scratchwork cell, can IGNORE COMPLETELY\n",
    "'''roe = FullQuadrotorDynamics()\n",
    "roe.rotor_thrust_model([1000,6000,8000,7000])\n",
    "j = QuadrotorCommands([4000,3000,2000,1000])\n",
    "print(j.rotor_rates)\n",
    "print(roe.step(10,j))\n",
    "#print(roe.state)'''"
   ]
  },
  {
   "cell_type": "markdown",
   "id": "35d7e761-f83a-44f4-a720-50281c6034ef",
   "metadata": {},
   "source": [
    "This code is largely the same, I set each of the rotor rates to 300 rad/s now, you should see it be very close to hovering with these numbers! (As I hope you found in the previous assignment as well with 600rad/s!)"
   ]
  },
  {
   "cell_type": "code",
   "execution_count": 30,
   "id": "dfb09fed-c7e5-423a-8144-7594bad2072d",
   "metadata": {},
   "outputs": [],
   "source": [
    "class EmptyTrajectory(TrajectoryBase):\n",
    "    def eval(self, *args):\n",
    "        return TrajectoryState(0.0, position=np.zeros(3))  # Trajectory not yet important\n",
    "\n",
    "class EmptyController(ControllerBase):\n",
    "    def step(self, *args) -> QuadrotorCommands:\n",
    "        return QuadrotorCommands(np.array([300, 300, 300, 300]))"
   ]
  },
  {
   "cell_type": "code",
   "execution_count": 31,
   "id": "7cd5ed88-09a6-479e-8379-4b54d0cd4049",
   "metadata": {},
   "outputs": [],
   "source": [
    "from quadrotor.simulator import SimulatorBase, SimulatorState\n",
    "\n",
    "# This might be slow to run the first time!\n",
    "from quadrotor.renderer import animate_k3d, animate_matplotlib"
   ]
  },
  {
   "cell_type": "code",
   "execution_count": 32,
   "id": "9abccb88-a090-44c0-b9b2-dacc8e28a042",
   "metadata": {},
   "outputs": [],
   "source": [
    "def run_and_render(initial_state: QuadrotorState, t_total: int = 0.5):\n",
    "    sim = SimulatorBase(\n",
    "        dt=0.01,\n",
    "        dynamics=FullQuadrotorDynamics(),\n",
    "        controller=EmptyController(),\n",
    "        trajectory=EmptyTrajectory(),\n",
    "        initial_state=initial_state,\n",
    "        t_total=t_total,\n",
    "    )\n",
    "    \n",
    "    # Run the simulator\n",
    "    output = sim.simulate()\n",
    "\n",
    "    # K3D renderer\n",
    "    plot = animate_k3d(output)\n",
    "    \n",
    "    plot.display()\n",
    "    plot.start_auto_play()"
   ]
  },
  {
   "cell_type": "code",
   "execution_count": 33,
   "id": "02c2b0c4-d334-43da-a1ec-c78cb4a5bf5a",
   "metadata": {},
   "outputs": [
    {
     "ename": "TypeError",
     "evalue": "matrix.__new__() takes from 2 to 4 positional arguments but 5 were given",
     "output_type": "error",
     "traceback": [
      "\u001b[1;31m---------------------------------------------------------------------------\u001b[0m",
      "\u001b[1;31mTypeError\u001b[0m                                 Traceback (most recent call last)",
      "Cell \u001b[1;32mIn[33], line 9\u001b[0m\n\u001b[0;32m      1\u001b[0m \u001b[38;5;66;03m# NOTE(roy) play with this variable and see what happens!\u001b[39;00m\n\u001b[0;32m      2\u001b[0m initial_state \u001b[38;5;241m=\u001b[39m QuadrotorState(\n\u001b[0;32m      3\u001b[0m     position\u001b[38;5;241m=\u001b[39mnp\u001b[38;5;241m.\u001b[39mzeros(\u001b[38;5;241m3\u001b[39m),\n\u001b[0;32m      4\u001b[0m     velocity\u001b[38;5;241m=\u001b[39mnp\u001b[38;5;241m.\u001b[39marray([\u001b[38;5;241m0\u001b[39m, \u001b[38;5;241m0\u001b[39m, \u001b[38;5;241m0\u001b[39m]),\n\u001b[0;32m      5\u001b[0m     orientation\u001b[38;5;241m=\u001b[39mRot3\u001b[38;5;241m.\u001b[39mfrom_yaw_pitch_roll(\u001b[38;5;241m0\u001b[39m, \u001b[38;5;241m0\u001b[39m, \u001b[38;5;241m0\u001b[39m),\n\u001b[0;32m      6\u001b[0m     angular_velocity\u001b[38;5;241m=\u001b[39mnp\u001b[38;5;241m.\u001b[39mzeros(\u001b[38;5;241m3\u001b[39m),\n\u001b[0;32m      7\u001b[0m )\n\u001b[1;32m----> 9\u001b[0m \u001b[43mrun_and_render\u001b[49m\u001b[43m(\u001b[49m\u001b[43minitial_state\u001b[49m\u001b[43m,\u001b[49m\u001b[43m \u001b[49m\u001b[38;5;241;43m5.0\u001b[39;49m\u001b[43m)\u001b[49m\n",
      "Cell \u001b[1;32mIn[32], line 12\u001b[0m, in \u001b[0;36mrun_and_render\u001b[1;34m(initial_state, t_total)\u001b[0m\n\u001b[0;32m      2\u001b[0m sim \u001b[38;5;241m=\u001b[39m SimulatorBase(\n\u001b[0;32m      3\u001b[0m     dt\u001b[38;5;241m=\u001b[39m\u001b[38;5;241m0.01\u001b[39m,\n\u001b[0;32m      4\u001b[0m     dynamics\u001b[38;5;241m=\u001b[39mFullQuadrotorDynamics(),\n\u001b[1;32m   (...)\u001b[0m\n\u001b[0;32m      8\u001b[0m     t_total\u001b[38;5;241m=\u001b[39mt_total,\n\u001b[0;32m      9\u001b[0m )\n\u001b[0;32m     11\u001b[0m \u001b[38;5;66;03m# Run the simulator\u001b[39;00m\n\u001b[1;32m---> 12\u001b[0m output \u001b[38;5;241m=\u001b[39m \u001b[43msim\u001b[49m\u001b[38;5;241;43m.\u001b[39;49m\u001b[43msimulate\u001b[49m\u001b[43m(\u001b[49m\u001b[43m)\u001b[49m\n\u001b[0;32m     14\u001b[0m \u001b[38;5;66;03m# K3D renderer\u001b[39;00m\n\u001b[0;32m     15\u001b[0m plot \u001b[38;5;241m=\u001b[39m animate_k3d(output)\n",
      "File \u001b[1;32m~\\Documents\\droneclonerep\\oa-project\\quadrotor\\simulator.py:61\u001b[0m, in \u001b[0;36mSimulatorBase.simulate\u001b[1;34m(self)\u001b[0m\n\u001b[0;32m     59\u001b[0m trajectory \u001b[38;5;241m=\u001b[39m \u001b[38;5;28mself\u001b[39m\u001b[38;5;241m.\u001b[39mtrajectory\u001b[38;5;241m.\u001b[39meval(t)\n\u001b[0;32m     60\u001b[0m command \u001b[38;5;241m=\u001b[39m \u001b[38;5;28mself\u001b[39m\u001b[38;5;241m.\u001b[39mcontroller\u001b[38;5;241m.\u001b[39mstep(t, trajectory, state)\n\u001b[1;32m---> 61\u001b[0m state \u001b[38;5;241m=\u001b[39m \u001b[38;5;28;43mself\u001b[39;49m\u001b[38;5;241;43m.\u001b[39;49m\u001b[43mdynamics\u001b[49m\u001b[38;5;241;43m.\u001b[39;49m\u001b[43mstep\u001b[49m\u001b[43m(\u001b[49m\u001b[43mt\u001b[49m\u001b[43m,\u001b[49m\u001b[43m \u001b[49m\u001b[43mcommand\u001b[49m\u001b[43m)\u001b[49m\n\u001b[0;32m     63\u001b[0m output\u001b[38;5;241m.\u001b[39mappend(SimulatorState(t, state, command, trajectory))\n\u001b[0;32m     65\u001b[0m t \u001b[38;5;241m+\u001b[39m\u001b[38;5;241m=\u001b[39m \u001b[38;5;28mself\u001b[39m\u001b[38;5;241m.\u001b[39mdt\n",
      "Cell \u001b[1;32mIn[28], line 42\u001b[0m, in \u001b[0;36mFullQuadrotorDynamics.step\u001b[1;34m(self, t, input)\u001b[0m\n\u001b[0;32m     40\u001b[0m L \u001b[38;5;241m=\u001b[39m p\u001b[38;5;241m.\u001b[39marm_length\n\u001b[0;32m     41\u001b[0m k \u001b[38;5;241m=\u001b[39m p\u001b[38;5;241m.\u001b[39mk_thrust\u001b[38;5;241m/\u001b[39mp\u001b[38;5;241m.\u001b[39mk_torque\n\u001b[1;32m---> 42\u001b[0m mixing_matrix \u001b[38;5;241m=\u001b[39m \u001b[43mnp\u001b[49m\u001b[38;5;241;43m.\u001b[39;49m\u001b[43mmatrix\u001b[49m\u001b[43m(\u001b[49m\u001b[43m[\u001b[49m\u001b[38;5;241;43m1\u001b[39;49m\u001b[43m,\u001b[49m\u001b[43m \u001b[49m\u001b[38;5;241;43m1\u001b[39;49m\u001b[43m,\u001b[49m\u001b[43m \u001b[49m\u001b[38;5;241;43m1\u001b[39;49m\u001b[43m,\u001b[49m\u001b[43m \u001b[49m\u001b[38;5;241;43m1\u001b[39;49m\u001b[43m]\u001b[49m\u001b[43m,\u001b[49m\u001b[43m \u001b[49m\u001b[43m[\u001b[49m\u001b[38;5;241;43m0\u001b[39;49m\u001b[43m,\u001b[49m\u001b[43m \u001b[49m\u001b[43mL\u001b[49m\u001b[43m,\u001b[49m\u001b[43m \u001b[49m\u001b[38;5;241;43m0\u001b[39;49m\u001b[43m,\u001b[49m\u001b[43m \u001b[49m\u001b[38;5;241;43m-\u001b[39;49m\u001b[38;5;241;43m1\u001b[39;49m\u001b[43m \u001b[49m\u001b[38;5;241;43m*\u001b[39;49m\u001b[43m \u001b[49m\u001b[43mL\u001b[49m\u001b[43m]\u001b[49m\u001b[43m,\u001b[49m\u001b[43m \u001b[49m\u001b[43m[\u001b[49m\u001b[38;5;241;43m-\u001b[39;49m\u001b[43mL\u001b[49m\u001b[43m,\u001b[49m\u001b[43m \u001b[49m\u001b[38;5;241;43m0\u001b[39;49m\u001b[43m \u001b[49m\u001b[43m,\u001b[49m\u001b[43m \u001b[49m\u001b[43mL\u001b[49m\u001b[43m,\u001b[49m\u001b[43m \u001b[49m\u001b[38;5;241;43m0\u001b[39;49m\u001b[43m]\u001b[49m\u001b[43m,\u001b[49m\u001b[43m \u001b[49m\u001b[43m[\u001b[49m\u001b[43mk\u001b[49m\u001b[43m,\u001b[49m\u001b[43m \u001b[49m\u001b[38;5;241;43m-\u001b[39;49m\u001b[38;5;241;43m1\u001b[39;49m\u001b[43m \u001b[49m\u001b[38;5;241;43m*\u001b[39;49m\u001b[43m \u001b[49m\u001b[43mk\u001b[49m\u001b[43m,\u001b[49m\u001b[43m \u001b[49m\u001b[43mk\u001b[49m\u001b[43m,\u001b[49m\u001b[43m \u001b[49m\u001b[38;5;241;43m-\u001b[39;49m\u001b[38;5;241;43m1\u001b[39;49m\u001b[43m \u001b[49m\u001b[38;5;241;43m*\u001b[39;49m\u001b[43m \u001b[49m\u001b[43mk\u001b[49m\u001b[43m]\u001b[49m\u001b[43m)\u001b[49m\n\u001b[0;32m     44\u001b[0m u \u001b[38;5;241m=\u001b[39m mixing_matrix \u001b[38;5;241m@\u001b[39m forces\n\u001b[0;32m     46\u001b[0m \u001b[38;5;66;03m# NOTE(roy) this local function is a wrapper around the class state_derivative function\u001b[39;00m\n\u001b[0;32m     47\u001b[0m \u001b[38;5;66;03m# all this does is convert the our state dataclass from/into a vector that the scipy\u001b[39;00m\n\u001b[0;32m     48\u001b[0m \u001b[38;5;66;03m# integration solver can work with. See dynamics.py for the definition of these\u001b[39;00m\n\u001b[0;32m     49\u001b[0m \u001b[38;5;66;03m# from/to state vector functions.\u001b[39;00m\n",
      "\u001b[1;31mTypeError\u001b[0m: matrix.__new__() takes from 2 to 4 positional arguments but 5 were given"
     ]
    }
   ],
   "source": [
    "# NOTE(roy) play with this variable and see what happens!\n",
    "initial_state = QuadrotorState(\n",
    "    position=np.zeros(3),\n",
    "    velocity=np.array([0, 0, 0]),\n",
    "    orientation=Rot3.from_yaw_pitch_roll(0, 0, 0),\n",
    "    angular_velocity=np.zeros(3),\n",
    ")\n",
    "\n",
    "run_and_render(initial_state, 5.0)"
   ]
  },
  {
   "cell_type": "markdown",
   "id": "b600cdcd-d6d8-44d1-8f3a-07d9eecfb3f3",
   "metadata": {},
   "source": [
    "### Does the simulated model make any sense?\n",
    "If all is well, you should see the quadrotor roughly hovering with those 600 rad/s rotor rates\n",
    "\n",
    "Now try some experiments for yourself and describe whether the behavior is as expected or whether there is anything wrong with your model, ideas to try:\n",
    "- Can you make the vehicle yaw by setting a combination of rotor rates?\n",
    "- Can you make the vehicle move forward/backward left/right by correctly lowering two rotor rates each time?\n",
    "- What happens if you're in hover (i.e. the 600rad/s) and disable one rotor?"
   ]
  },
  {
   "cell_type": "markdown",
   "id": "6822a926-51a3-4df3-a9bb-5b451fd6db6e",
   "metadata": {},
   "source": [
    "### Commit your updated notebook to your fork!"
   ]
  }
 ],
 "metadata": {
  "kernelspec": {
   "display_name": "Python 3 (ipykernel)",
   "language": "python",
   "name": "python3"
  },
  "language_info": {
   "codemirror_mode": {
    "name": "ipython",
    "version": 3
   },
   "file_extension": ".py",
   "mimetype": "text/x-python",
   "name": "python",
   "nbconvert_exporter": "python",
   "pygments_lexer": "ipython3",
   "version": "3.12.2"
  }
 },
 "nbformat": 4,
 "nbformat_minor": 5
}
